{
 "cells": [
  {
   "cell_type": "code",
   "execution_count": 1,
   "metadata": {},
   "outputs": [],
   "source": [
    "import os"
   ]
  },
  {
   "cell_type": "code",
   "execution_count": 2,
   "metadata": {},
   "outputs": [],
   "source": [
    "# Remove the POS tags from the targets\n",
    "inp_filename = '../../data/semeval2020_ulscd_eng/targets.txt'\n",
    "outp_filename = '../../data/semeval2020_ulscd_eng/targets_nopos.txt'\n",
    "\n",
    "with open(outp_filename, 'w') as fout:\n",
    "    with open(inp_filename) as fin:\n",
    "        for line in fin.readlines():\n",
    "            word = line.split('_')[0]\n",
    "            fout.write(word)\n",
    "            fout.write('\\n')"
   ]
  },
  {
   "cell_type": "code",
   "execution_count": 5,
   "metadata": {},
   "outputs": [],
   "source": [
    "import json\n",
    "import pandas as pd\n",
    "\n",
    "word_sentences = json.load(open('../../data/semeval2020_ulscd_eng/corpus1/sentences.json'))"
   ]
  },
  {
   "cell_type": "code",
   "execution_count": 13,
   "metadata": {},
   "outputs": [
    {
     "data": {
      "text/html": [
       "<div>\n",
       "<style scoped>\n",
       "    .dataframe tbody tr th:only-of-type {\n",
       "        vertical-align: middle;\n",
       "    }\n",
       "\n",
       "    .dataframe tbody tr th {\n",
       "        vertical-align: top;\n",
       "    }\n",
       "\n",
       "    .dataframe thead th {\n",
       "        text-align: right;\n",
       "    }\n",
       "</style>\n",
       "<table border=\"1\" class=\"dataframe\">\n",
       "  <thead>\n",
       "    <tr style=\"text-align: right;\">\n",
       "      <th></th>\n",
       "      <th>word</th>\n",
       "      <th>sentence</th>\n",
       "    </tr>\n",
       "  </thead>\n",
       "  <tbody>\n",
       "    <tr>\n",
       "      <th>0</th>\n",
       "      <td>part</td>\n",
       "      <td>Most of the asp * ing men of that part of Alab...</td>\n",
       "    </tr>\n",
       "    <tr>\n",
       "      <th>1</th>\n",
       "      <td>part</td>\n",
       "      <td>Even the earthly house of his tabernacle is di...</td>\n",
       "    </tr>\n",
       "    <tr>\n",
       "      <th>2</th>\n",
       "      <td>part</td>\n",
       "      <td>Such , therefore , was the mutual renunciation...</td>\n",
       "    </tr>\n",
       "    <tr>\n",
       "      <th>3</th>\n",
       "      <td>part</td>\n",
       "      <td>As they had obtained no part in the administra...</td>\n",
       "    </tr>\n",
       "    <tr>\n",
       "      <th>4</th>\n",
       "      <td>part</td>\n",
       "      <td>state , and the great high priest of our relig...</td>\n",
       "    </tr>\n",
       "  </tbody>\n",
       "</table>\n",
       "</div>"
      ],
      "text/plain": [
       "   word                                           sentence\n",
       "0  part  Most of the asp * ing men of that part of Alab...\n",
       "1  part  Even the earthly house of his tabernacle is di...\n",
       "2  part  Such , therefore , was the mutual renunciation...\n",
       "3  part  As they had obtained no part in the administra...\n",
       "4  part  state , and the great high priest of our relig..."
      ]
     },
     "execution_count": 13,
     "metadata": {},
     "output_type": "execute_result"
    }
   ],
   "source": [
    "df_sentences = pd.DataFrame([(w, s) for w in word_sentences for s in word_sentences[w]])\n",
    "df_sentences.columns = ['word', 'sentence']\n",
    "df_sentences.head()"
   ]
  },
  {
   "cell_type": "code",
   "execution_count": 16,
   "metadata": {},
   "outputs": [
    {
     "data": {
      "text/plain": [
       "(19714, 2)"
      ]
     },
     "execution_count": 16,
     "metadata": {},
     "output_type": "execute_result"
    }
   ],
   "source": [
    "df_sentences.shape"
   ]
  },
  {
   "cell_type": "code",
   "execution_count": 14,
   "metadata": {},
   "outputs": [
    {
     "data": {
      "text/plain": [
       "part             3884\n",
       "head             3100\n",
       "face             2957\n",
       "word             1773\n",
       "land             1748\n",
       "tree              959\n",
       "savage            465\n",
       "attack            441\n",
       "circle            391\n",
       "multitude         337\n",
       "edge              332\n",
       "record            313\n",
       "risk              305\n",
       "bit               287\n",
       "ball              279\n",
       "contemplation     218\n",
       "fiction           151\n",
       "bag               150\n",
       "stroke            146\n",
       "plane             146\n",
       "relationship      121\n",
       "lane              113\n",
       "twist             110\n",
       "gas               106\n",
       "chairman          103\n",
       "donkey             80\n",
       "graft              80\n",
       "prop               77\n",
       "ounce              76\n",
       "stab               75\n",
       "quilt              68\n",
       "player             65\n",
       "pin                61\n",
       "lass               61\n",
       "thump              57\n",
       "tip                42\n",
       "rag                37\n",
       "Name: word, dtype: int64"
      ]
     },
     "execution_count": 14,
     "metadata": {},
     "output_type": "execute_result"
    }
   ],
   "source": [
    "df_sentences['word'].value_counts()"
   ]
  },
  {
   "cell_type": "code",
   "execution_count": 15,
   "metadata": {},
   "outputs": [
    {
     "name": "stdout",
     "output_type": "stream",
     "text": [
      "nr of sentences: 948\n"
     ]
    }
   ],
   "source": [
    "# hHow many sentences do contain multiple words?\n",
    "sentence_count = df_sentences['sentence'].value_counts()\n",
    "print('nr of sentences:', len(sentence_count[sentence_count>1]))"
   ]
  },
  {
   "cell_type": "code",
   "execution_count": null,
   "metadata": {},
   "outputs": [],
   "source": []
  }
 ],
 "metadata": {
  "kernelspec": {
   "display_name": "Python 3.8.13 ('py38_histLM')",
   "language": "python",
   "name": "python3"
  },
  "language_info": {
   "codemirror_mode": {
    "name": "ipython",
    "version": 3
   },
   "file_extension": ".py",
   "mimetype": "text/x-python",
   "name": "python",
   "nbconvert_exporter": "python",
   "pygments_lexer": "ipython3",
   "version": "3.8.13"
  },
  "orig_nbformat": 4,
  "vscode": {
   "interpreter": {
    "hash": "bc86a748313b485fcf03bee1581f1aab8ce96655b008a4fc51e449fbe54ba22f"
   }
  }
 },
 "nbformat": 4,
 "nbformat_minor": 2
}
