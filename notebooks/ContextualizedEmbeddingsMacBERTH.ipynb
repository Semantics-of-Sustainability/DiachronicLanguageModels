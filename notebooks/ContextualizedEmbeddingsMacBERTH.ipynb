{
 "cells": [
  {
   "cell_type": "markdown",
   "metadata": {},
   "source": [
    "# Contextuailzed Embeddings for MacBERTH\n",
    "Having a dataframe of sentences that contain a term, create the contextualized embeddings of the uses of that term in the sentences with a transformers model.\n",
    "\n",
    "Note that MacBerth is trained on data that includes CoHa"
   ]
  },
  {
   "cell_type": "code",
   "execution_count": 45,
   "metadata": {},
   "outputs": [],
   "source": [
    "import os\n",
    "from transformers import pipeline, AutoModelForMaskedLM, AutoTokenizer\n",
    "import pandas as pd\n",
    "import numpy as np\n",
    "import matplotlib.pyplot as plt\n",
    "from tqdm import tqdm"
   ]
  },
  {
   "cell_type": "markdown",
   "metadata": {},
   "source": [
    "## Load the language model"
   ]
  },
  {
   "cell_type": "code",
   "execution_count": 8,
   "metadata": {},
   "outputs": [
    {
     "name": "stderr",
     "output_type": "stream",
     "text": [
      "Some weights of the model checkpoint at emanjavacas/MacBERTh were not used when initializing BertForMaskedLM: ['cls.seq_relationship.weight', 'cls.seq_relationship.bias']\n",
      "- This IS expected if you are initializing BertForMaskedLM from the checkpoint of a model trained on another task or with another architecture (e.g. initializing a BertForSequenceClassification model from a BertForPreTraining model).\n",
      "- This IS NOT expected if you are initializing BertForMaskedLM from the checkpoint of a model that you expect to be exactly identical (initializing a BertForSequenceClassification model from a BertForSequenceClassification model).\n"
     ]
    }
   ],
   "source": [
    "path2model = 'emanjavacas/MacBERTh'\n",
    "model = AutoModelForMaskedLM.from_pretrained(path2model)\n",
    "tokenizer = AutoTokenizer.from_pretrained(path2model)"
   ]
  },
  {
   "cell_type": "code",
   "execution_count": 9,
   "metadata": {},
   "outputs": [],
   "source": [
    "pipe = pipeline(\"feature-extraction\", \n",
    "                    model=model, \n",
    "                    tokenizer=tokenizer)"
   ]
  },
  {
   "cell_type": "markdown",
   "metadata": {},
   "source": [
    "## Load the sentences"
   ]
  },
  {
   "cell_type": "code",
   "execution_count": 10,
   "metadata": {},
   "outputs": [],
   "source": [
    "datapath = '../../sentences_out'\n",
    "\n",
    "term = 'fair'\n",
    "df_sentences = pd.read_csv(os.path.join(datapath, term+'.csv'))"
   ]
  },
  {
   "cell_type": "code",
   "execution_count": 11,
   "metadata": {},
   "outputs": [
    {
     "name": "stdout",
     "output_type": "stream",
     "text": [
      "(425, 4)\n"
     ]
    },
    {
     "data": {
      "text/html": [
       "<div>\n",
       "<style scoped>\n",
       "    .dataframe tbody tr th:only-of-type {\n",
       "        vertical-align: middle;\n",
       "    }\n",
       "\n",
       "    .dataframe tbody tr th {\n",
       "        vertical-align: top;\n",
       "    }\n",
       "\n",
       "    .dataframe thead th {\n",
       "        text-align: right;\n",
       "    }\n",
       "</style>\n",
       "<table border=\"1\" class=\"dataframe\">\n",
       "  <thead>\n",
       "    <tr style=\"text-align: right;\">\n",
       "      <th></th>\n",
       "      <th>year</th>\n",
       "      <th>genre</th>\n",
       "      <th>id</th>\n",
       "      <th>sentence</th>\n",
       "    </tr>\n",
       "  </thead>\n",
       "  <tbody>\n",
       "    <tr>\n",
       "      <th>0</th>\n",
       "      <td>1889</td>\n",
       "      <td>news</td>\n",
       "      <td>672250</td>\n",
       "      <td>Because of the revolutionary character of the ...</td>\n",
       "    </tr>\n",
       "    <tr>\n",
       "      <th>1</th>\n",
       "      <td>1889</td>\n",
       "      <td>news</td>\n",
       "      <td>672250</td>\n",
       "      <td>It has been observed , of course , that the No...</td>\n",
       "    </tr>\n",
       "    <tr>\n",
       "      <th>2</th>\n",
       "      <td>1889</td>\n",
       "      <td>news</td>\n",
       "      <td>672250</td>\n",
       "      <td>Originally , the Post 's opposition to the fai...</td>\n",
       "    </tr>\n",
       "    <tr>\n",
       "      <th>3</th>\n",
       "      <td>1889</td>\n",
       "      <td>news</td>\n",
       "      <td>672250</td>\n",
       "      <td>for by the astute @ @ @ @ @ @ @ @ @ @ a ' perf...</td>\n",
       "    </tr>\n",
       "    <tr>\n",
       "      <th>4</th>\n",
       "      <td>1889</td>\n",
       "      <td>news</td>\n",
       "      <td>672250</td>\n",
       "      <td>about the fair .</td>\n",
       "    </tr>\n",
       "  </tbody>\n",
       "</table>\n",
       "</div>"
      ],
      "text/plain": [
       "   year genre      id                                           sentence\n",
       "0  1889  news  672250  Because of the revolutionary character of the ...\n",
       "1  1889  news  672250  It has been observed , of course , that the No...\n",
       "2  1889  news  672250  Originally , the Post 's opposition to the fai...\n",
       "3  1889  news  672250  for by the astute @ @ @ @ @ @ @ @ @ @ a ' perf...\n",
       "4  1889  news  672250                                   about the fair ."
      ]
     },
     "execution_count": 11,
     "metadata": {},
     "output_type": "execute_result"
    }
   ],
   "source": [
    "print(df_sentences.shape)\n",
    "df_sentences.head()"
   ]
  },
  {
   "cell_type": "code",
   "execution_count": 17,
   "metadata": {},
   "outputs": [
    {
     "data": {
      "text/plain": [
       "(array([122., 129.,  90.,  40.,  20.,  10.,   8.,   1.,   2.,   3.]),\n",
       " array([ 16. , 103.2, 190.4, 277.6, 364.8, 452. , 539.2, 626.4, 713.6,\n",
       "        800.8, 888. ]),\n",
       " <a list of 10 Patch objects>)"
      ]
     },
     "execution_count": 17,
     "metadata": {},
     "output_type": "execute_result"
    },
    {
     "data": {
      "image/png": "[encoded data removed]",
      "text/plain": [
       "<Figure size 432x288 with 1 Axes>"
      ]
     },
     "metadata": {
      "needs_background": "light"
     },
     "output_type": "display_data"
    }
   ],
   "source": [
    "plt.hist([len(s) for s in df_sentences['sentence']])"
   ]
  },
  {
   "cell_type": "code",
   "execution_count": 44,
   "metadata": {},
   "outputs": [
    {
     "data": {
      "text/plain": [
       "358"
      ]
     },
     "execution_count": 44,
     "metadata": {},
     "output_type": "execute_result"
    }
   ],
   "source": [
    "lengths = df_sentences['sentence'].str.len()\n",
    "df_sub = df_sentences[(lengths > 10) & (lengths< 300)].reset_index()\n",
    "len(df_sub)"
   ]
  },
  {
   "cell_type": "markdown",
   "metadata": {},
   "source": [
    "## Apply model to get embeddings\n",
    "This will take some time to run"
   ]
  },
  {
   "cell_type": "code",
   "execution_count": 21,
   "metadata": {},
   "outputs": [],
   "source": [
    "# embedding on each sentence\n",
    "embeddings = pipe(list(df_sub['sentence']))"
   ]
  },
  {
   "cell_type": "code",
   "execution_count": 24,
   "metadata": {},
   "outputs": [],
   "source": [
    "def get_word_embeddings(embedding, sentence, query):\n",
    "    \"\"\"\n",
    "    Only retrieve the embeddings for the tokens that match the query\n",
    "    Does not yet handle the case where query is split up in tokenization.\n",
    "    \"\"\"\n",
    "    token_ids = tokenizer(sentence)\n",
    "    tokens = tokenizer.convert_ids_to_tokens(token_ids['input_ids'])\n",
    "    query_embeddings = np.array([embedding[i] for i,tok in enumerate(tokens) if tok==query])\n",
    "    return query_embeddings"
   ]
  },
  {
   "cell_type": "code",
   "execution_count": 25,
   "metadata": {},
   "outputs": [],
   "source": [
    "# Now do this for all sentences, and put them together in a dataframe\n",
    "df_embeddings = pd.DataFrame()\n",
    "for i, (_, row) in enumerate(df_sub.iterrows()):\n",
    "    emb = get_word_embeddings(embeddings[i], row['sentence'], term)\n",
    "    df_embeddings = df_embeddings.append(pd.DataFrame({\n",
    "        'sentence': row['sentence'],\n",
    "        'year': row['year'],\n",
    "        'genre': row['genre'],\n",
    "        'id': row['id'],\n",
    "        'embedding': list(emb)}))"
   ]
  },
  {
   "cell_type": "code",
   "execution_count": 26,
   "metadata": {},
   "outputs": [],
   "source": [
    "df_embeddings = df_embeddings.reset_index()"
   ]
  },
  {
   "cell_type": "markdown",
   "metadata": {},
   "source": [
    "## Plot PCA"
   ]
  },
  {
   "cell_type": "code",
   "execution_count": 27,
   "metadata": {},
   "outputs": [],
   "source": [
    "from sklearn.decomposition import PCA"
   ]
  },
  {
   "cell_type": "code",
   "execution_count": 28,
   "metadata": {},
   "outputs": [],
   "source": [
    "pca = PCA(n_components=2)"
   ]
  },
  {
   "cell_type": "code",
   "execution_count": 29,
   "metadata": {},
   "outputs": [
    {
     "data": {
      "text/plain": [
       "(364, 30000)"
      ]
     },
     "execution_count": 29,
     "metadata": {},
     "output_type": "execute_result"
    }
   ],
   "source": [
    "X = np.array([e for e in df_embeddings['embedding']])\n",
    "X.shape"
   ]
  },
  {
   "cell_type": "code",
   "execution_count": 30,
   "metadata": {},
   "outputs": [],
   "source": [
    "X_pca = pca.fit_transform(X)"
   ]
  },
  {
   "cell_type": "code",
   "execution_count": 31,
   "metadata": {},
   "outputs": [],
   "source": [
    "df_embeddings['pca1'] = X_pca[:,0]\n",
    "df_embeddings['pca2'] = X_pca[:,1]"
   ]
  },
  {
   "cell_type": "code",
   "execution_count": 32,
   "metadata": {},
   "outputs": [
    {
     "data": {
      "text/plain": [
       "Text(0.5, 1.0, 'PCA colored per genre')"
      ]
     },
     "execution_count": 32,
     "metadata": {},
     "output_type": "execute_result"
    },
    {
     "data": {
      "image/png": "[encoded data removed]",
      "text/plain": [
       "<Figure size 432x288 with 1 Axes>"
      ]
     },
     "metadata": {
      "needs_background": "light"
     },
     "output_type": "display_data"
    }
   ],
   "source": [
    "for key, group in df_embeddings.groupby(['genre']):\n",
    "    plt.plot(group.pca1, group.pca2, 'o', alpha=0.7, label=key)\n",
    "plt.legend()\n",
    "plt.xlabel('PCA 1')\n",
    "plt.ylabel('PCA 2')\n",
    "plt.title(\"PCA colored per genre\")"
   ]
  },
  {
   "cell_type": "code",
   "execution_count": 33,
   "metadata": {},
   "outputs": [
    {
     "data": {
      "text/plain": [
       "Text(0.5, 1.0, 'PCA colored per year')"
      ]
     },
     "execution_count": 33,
     "metadata": {},
     "output_type": "execute_result"
    },
    {
     "data": {
      "image/png": "[encoded data removed]",
      "text/plain": [
       "<Figure size 432x288 with 2 Axes>"
      ]
     },
     "metadata": {
      "needs_background": "light"
     },
     "output_type": "display_data"
    }
   ],
   "source": [
    "plt.scatter(df_embeddings['pca1'], df_embeddings['pca2'], c=df_embeddings['year'], cmap='plasma')\n",
    "plt.xlabel('PCA 1')\n",
    "plt.ylabel('PCA 2')\n",
    "plt.colorbar()\n",
    "plt.title(\"PCA colored per year\")"
   ]
  },
  {
   "cell_type": "code",
   "execution_count": 52,
   "metadata": {},
   "outputs": [],
   "source": [
    "from sklearn.manifold import TSNE\n",
    "X_tsne = TSNE(n_components=2, init='pca').fit_transform(X)\n",
    "df_embeddings['tsne1'] = X_tsne[:,0]\n",
    "df_embeddings['tsne2'] = X_tsne[:,1]"
   ]
  },
  {
   "cell_type": "markdown",
   "metadata": {},
   "source": [
    "## Masked token prediction"
   ]
  },
  {
   "cell_type": "code",
   "execution_count": 35,
   "metadata": {},
   "outputs": [],
   "source": [
    "model_masked = pipeline('fill-mask',\n",
    "                           model=model, \n",
    "                    tokenizer=tokenizer)"
   ]
  },
  {
   "cell_type": "code",
   "execution_count": 46,
   "metadata": {},
   "outputs": [
    {
     "name": "stderr",
     "output_type": "stream",
     "text": [
      "100%|██████████| 358/358 [01:15<00:00,  5.68it/s]\n"
     ]
    }
   ],
   "source": [
    "outputs = []\n",
    "\n",
    "for i in tqdm(range(len(df_sub))):\n",
    "    sent = df_sub['sentence'][i]\n",
    "    sent_masked = sent.replace(term, '[MASK]', 1)\n",
    "    output = model_masked(sent_masked)\n",
    "    outputs.append(output)\n",
    "    \n",
    "\n",
    "predicted_words = [[o['token_str'] for o in output] for output in outputs]"
   ]
  },
  {
   "cell_type": "code",
   "execution_count": 53,
   "metadata": {},
   "outputs": [],
   "source": [
    "predicted_words_df = pd.DataFrame(predicted_words, columns = ['word_{}'.format(i+1) for i in range(5)])\n",
    "df = pd.concat([df_embeddings, predicted_words_df], axis=1)"
   ]
  },
  {
   "cell_type": "code",
   "execution_count": 56,
   "metadata": {},
   "outputs": [],
   "source": [
    "df.to_csv('../../sentences_out/{}_embedded_macberth.csv'.format(term), index=False)"
   ]
  },
  {
   "cell_type": "code",
   "execution_count": 55,
   "metadata": {},
   "outputs": [
    {
     "data": {
      "text/html": [
       "<div>\n",
       "<style scoped>\n",
       "    .dataframe tbody tr th:only-of-type {\n",
       "        vertical-align: middle;\n",
       "    }\n",
       "\n",
       "    .dataframe tbody tr th {\n",
       "        vertical-align: top;\n",
       "    }\n",
       "\n",
       "    .dataframe thead th {\n",
       "        text-align: right;\n",
       "    }\n",
       "</style>\n",
       "<table border=\"1\" class=\"dataframe\">\n",
       "  <thead>\n",
       "    <tr style=\"text-align: right;\">\n",
       "      <th></th>\n",
       "      <th>index</th>\n",
       "      <th>sentence</th>\n",
       "      <th>year</th>\n",
       "      <th>genre</th>\n",
       "      <th>id</th>\n",
       "      <th>embedding</th>\n",
       "      <th>pca1</th>\n",
       "      <th>pca2</th>\n",
       "      <th>tsne1</th>\n",
       "      <th>tsne2</th>\n",
       "      <th>word_1</th>\n",
       "      <th>word_2</th>\n",
       "      <th>word_3</th>\n",
       "      <th>word_4</th>\n",
       "      <th>word_5</th>\n",
       "    </tr>\n",
       "  </thead>\n",
       "  <tbody>\n",
       "    <tr>\n",
       "      <th>0</th>\n",
       "      <td>0</td>\n",
       "      <td>Because of the revolutionary character of the ...</td>\n",
       "      <td>1889</td>\n",
       "      <td>news</td>\n",
       "      <td>672250</td>\n",
       "      <td>[-4.602723121643066, -5.252146244049072, -1.29...</td>\n",
       "      <td>415.317530</td>\n",
       "      <td>109.641533</td>\n",
       "      <td>335.292297</td>\n",
       "      <td>94.995369</td>\n",
       "      <td>gazette</td>\n",
       "      <td>review</td>\n",
       "      <td>,</td>\n",
       "      <td>conference</td>\n",
       "      <td>revolution</td>\n",
       "    </tr>\n",
       "    <tr>\n",
       "      <th>1</th>\n",
       "      <td>0</td>\n",
       "      <td>for by the astute @ @ @ @ @ @ @ @ @ @ a ' perf...</td>\n",
       "      <td>1889</td>\n",
       "      <td>news</td>\n",
       "      <td>672250</td>\n",
       "      <td>[-4.4479169845581055, -6.655737400054932, -5.3...</td>\n",
       "      <td>5.776866</td>\n",
       "      <td>-224.249784</td>\n",
       "      <td>-103.621323</td>\n",
       "      <td>-315.262878</td>\n",
       "      <td>absurd</td>\n",
       "      <td>fair</td>\n",
       "      <td>ridiculous</td>\n",
       "      <td>sufficient</td>\n",
       "      <td>true</td>\n",
       "    </tr>\n",
       "    <tr>\n",
       "      <th>2</th>\n",
       "      <td>1</td>\n",
       "      <td>for by the astute @ @ @ @ @ @ @ @ @ @ a ' perf...</td>\n",
       "      <td>1889</td>\n",
       "      <td>news</td>\n",
       "      <td>672250</td>\n",
       "      <td>[-5.376897811889648, -5.8108744621276855, -5.8...</td>\n",
       "      <td>407.690313</td>\n",
       "      <td>37.925565</td>\n",
       "      <td>274.842590</td>\n",
       "      <td>29.861700</td>\n",
       "      <td>end</td>\n",
       "      <td>9th</td>\n",
       "      <td>year</td>\n",
       "      <td>2</td>\n",
       "      <td>20th</td>\n",
       "    </tr>\n",
       "    <tr>\n",
       "      <th>3</th>\n",
       "      <td>0</td>\n",
       "      <td>about the fair .</td>\n",
       "      <td>1889</td>\n",
       "      <td>news</td>\n",
       "      <td>672250</td>\n",
       "      <td>[-6.587862014770508, -7.782370090484619, -6.58...</td>\n",
       "      <td>502.971487</td>\n",
       "      <td>106.414820</td>\n",
       "      <td>342.672302</td>\n",
       "      <td>34.570904</td>\n",
       "      <td>school</td>\n",
       "      <td>college</td>\n",
       "      <td>museum</td>\n",
       "      <td>building</td>\n",
       "      <td>office</td>\n",
       "    </tr>\n",
       "    <tr>\n",
       "      <th>4</th>\n",
       "      <td>0</td>\n",
       "      <td>site for the fair mainly with a view to person...</td>\n",
       "      <td>1889</td>\n",
       "      <td>news</td>\n",
       "      <td>672250</td>\n",
       "      <td>[-6.647197723388672, -6.510187149047852, -5.82...</td>\n",
       "      <td>382.289848</td>\n",
       "      <td>29.709689</td>\n",
       "      <td>319.490143</td>\n",
       "      <td>103.205437</td>\n",
       "      <td>highly</td>\n",
       "      <td>well</td>\n",
       "      <td>other</td>\n",
       "      <td>a</td>\n",
       "      <td>of</td>\n",
       "    </tr>\n",
       "  </tbody>\n",
       "</table>\n",
       "</div>"
      ],
      "text/plain": [
       "   index                                           sentence  year genre  \\\n",
       "0      0  Because of the revolutionary character of the ...  1889  news   \n",
       "1      0  for by the astute @ @ @ @ @ @ @ @ @ @ a ' perf...  1889  news   \n",
       "2      1  for by the astute @ @ @ @ @ @ @ @ @ @ a ' perf...  1889  news   \n",
       "3      0                                   about the fair .  1889  news   \n",
       "4      0  site for the fair mainly with a view to person...  1889  news   \n",
       "\n",
       "       id                                          embedding        pca1  \\\n",
       "0  672250  [-4.602723121643066, -5.252146244049072, -1.29...  415.317530   \n",
       "1  672250  [-4.4479169845581055, -6.655737400054932, -5.3...    5.776866   \n",
       "2  672250  [-5.376897811889648, -5.8108744621276855, -5.8...  407.690313   \n",
       "3  672250  [-6.587862014770508, -7.782370090484619, -6.58...  502.971487   \n",
       "4  672250  [-6.647197723388672, -6.510187149047852, -5.82...  382.289848   \n",
       "\n",
       "         pca2       tsne1       tsne2   word_1   word_2      word_3  \\\n",
       "0  109.641533  335.292297   94.995369  gazette   review           ,   \n",
       "1 -224.249784 -103.621323 -315.262878   absurd     fair  ridiculous   \n",
       "2   37.925565  274.842590   29.861700      end      9th        year   \n",
       "3  106.414820  342.672302   34.570904   school  college      museum   \n",
       "4   29.709689  319.490143  103.205437   highly     well       other   \n",
       "\n",
       "       word_4      word_5  \n",
       "0  conference  revolution  \n",
       "1  sufficient        true  \n",
       "2           2        20th  \n",
       "3    building      office  \n",
       "4           a          of  "
      ]
     },
     "execution_count": 55,
     "metadata": {},
     "output_type": "execute_result"
    }
   ],
   "source": [
    "df.head()"
   ]
  },
  {
   "cell_type": "code",
   "execution_count": 49,
   "metadata": {},
   "outputs": [
    {
     "data": {
      "text/plain": [
       "fair          152\n",
       "good           80\n",
       "true           32\n",
       "right          30\n",
       "great          27\n",
       "just           26\n",
       "proper         24\n",
       "the            23\n",
       "full           21\n",
       "well           20\n",
       "beautiful      18\n",
       "little         17\n",
       "reasonable     17\n",
       "free           17\n",
       "high           16\n",
       "own            14\n",
       "enough         14\n",
       "young          14\n",
       "bad            14\n",
       "so             13\n",
       "fine           13\n",
       "large          13\n",
       "lovely         12\n",
       "certain        12\n",
       "dear           11\n",
       "a              11\n",
       "sweet          11\n",
       ",              11\n",
       "sufficient     10\n",
       "natural        10\n",
       "dtype: int64"
      ]
     },
     "execution_count": 49,
     "metadata": {},
     "output_type": "execute_result"
    }
   ],
   "source": [
    "all_words = pd.concat([df['word_{}'.format(i+1)] for i in range(5)])\n",
    "all_words.value_counts().head(30)"
   ]
  },
  {
   "cell_type": "code",
   "execution_count": null,
   "metadata": {},
   "outputs": [],
   "source": []
  }
 ],
 "metadata": {
  "kernelspec": {
   "display_name": "Python 3.7.3 ('base')",
   "language": "python",
   "name": "python3"
  },
  "language_info": {
   "codemirror_mode": {
    "name": "ipython",
    "version": 3
   },
   "file_extension": ".py",
   "mimetype": "text/x-python",
   "name": "python",
   "nbconvert_exporter": "python",
   "pygments_lexer": "ipython3",
   "version": "3.7.3"
  },
  "vscode": {
   "interpreter": {
    "hash": "793e61b90f6f9466298faa5248826ecabc33db23433c9cff532bd96138042160"
   }
  }
 },
 "nbformat": 4,
 "nbformat_minor": 2
}
