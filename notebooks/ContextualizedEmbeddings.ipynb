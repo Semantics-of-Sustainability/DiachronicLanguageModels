{
 "cells": [
  {
   "cell_type": "markdown",
   "metadata": {},
   "source": [
    "# Contextuailzed Embeddings\n",
    "Having a dataframe of sentences that contain a term, create the contextualized embeddings of the uses of that term in the sentences with a transformers model."
   ]
  },
  {
   "cell_type": "code",
   "execution_count": 10,
   "metadata": {},
   "outputs": [],
   "source": [
    "import os\n",
    "from transformers import pipeline\n",
    "import pandas as pd\n",
    "import numpy as np\n",
    "import matplotlib.pyplot as plt"
   ]
  },
  {
   "cell_type": "markdown",
   "metadata": {},
   "source": [
    "## Load the language model"
   ]
  },
  {
   "cell_type": "code",
   "execution_count": 11,
   "metadata": {},
   "outputs": [],
   "source": [
    "path2model = \"bert-base-uncased\" # os.path.join(os.pardir, \"histLM_dataset\", \"bert\", \"bert_1760_1900\")\n",
    "tokenizer = \"bert-base-uncased\""
   ]
  },
  {
   "cell_type": "code",
   "execution_count": 12,
   "metadata": {},
   "outputs": [],
   "source": [
    "model = pipeline(\"feature-extraction\", \n",
    "                    model=path2model, \n",
    "                    tokenizer=tokenizer)"
   ]
  },
  {
   "cell_type": "markdown",
   "metadata": {},
   "source": [
    "## Load the sentences"
   ]
  },
  {
   "cell_type": "code",
   "execution_count": 13,
   "metadata": {},
   "outputs": [],
   "source": [
    "datapath = '../../sentences_out'\n",
    "\n",
    "term = 'fair'\n",
    "df_sentences = pd.read_csv(os.path.join(datapath, term+'.csv'))\n",
    "df_sentences['sentence_lc'] = df_sentences['sentence'].str.lower()"
   ]
  },
  {
   "cell_type": "code",
   "execution_count": 14,
   "metadata": {},
   "outputs": [
    {
     "name": "stdout",
     "output_type": "stream",
     "text": [
      "(425, 5)\n"
     ]
    },
    {
     "data": {
      "text/html": [
       "<div>\n",
       "<style scoped>\n",
       "    .dataframe tbody tr th:only-of-type {\n",
       "        vertical-align: middle;\n",
       "    }\n",
       "\n",
       "    .dataframe tbody tr th {\n",
       "        vertical-align: top;\n",
       "    }\n",
       "\n",
       "    .dataframe thead th {\n",
       "        text-align: right;\n",
       "    }\n",
       "</style>\n",
       "<table border=\"1\" class=\"dataframe\">\n",
       "  <thead>\n",
       "    <tr style=\"text-align: right;\">\n",
       "      <th></th>\n",
       "      <th>year</th>\n",
       "      <th>genre</th>\n",
       "      <th>id</th>\n",
       "      <th>sentence</th>\n",
       "      <th>sentence_lc</th>\n",
       "    </tr>\n",
       "  </thead>\n",
       "  <tbody>\n",
       "    <tr>\n",
       "      <th>0</th>\n",
       "      <td>1889</td>\n",
       "      <td>news</td>\n",
       "      <td>672250</td>\n",
       "      <td>Because of the revolutionary character of the ...</td>\n",
       "      <td>because of the revolutionary character of the ...</td>\n",
       "    </tr>\n",
       "    <tr>\n",
       "      <th>1</th>\n",
       "      <td>1889</td>\n",
       "      <td>news</td>\n",
       "      <td>672250</td>\n",
       "      <td>It has been observed , of course , that the No...</td>\n",
       "      <td>it has been observed , of course , that the no...</td>\n",
       "    </tr>\n",
       "    <tr>\n",
       "      <th>2</th>\n",
       "      <td>1889</td>\n",
       "      <td>news</td>\n",
       "      <td>672250</td>\n",
       "      <td>Originally , the Post 's opposition to the fai...</td>\n",
       "      <td>originally , the post 's opposition to the fai...</td>\n",
       "    </tr>\n",
       "    <tr>\n",
       "      <th>3</th>\n",
       "      <td>1889</td>\n",
       "      <td>news</td>\n",
       "      <td>672250</td>\n",
       "      <td>for by the astute @ @ @ @ @ @ @ @ @ @ a ' perf...</td>\n",
       "      <td>for by the astute @ @ @ @ @ @ @ @ @ @ a ' perf...</td>\n",
       "    </tr>\n",
       "    <tr>\n",
       "      <th>4</th>\n",
       "      <td>1889</td>\n",
       "      <td>news</td>\n",
       "      <td>672250</td>\n",
       "      <td>about the fair .</td>\n",
       "      <td>about the fair .</td>\n",
       "    </tr>\n",
       "  </tbody>\n",
       "</table>\n",
       "</div>"
      ],
      "text/plain": [
       "   year genre      id                                           sentence  \\\n",
       "0  1889  news  672250  Because of the revolutionary character of the ...   \n",
       "1  1889  news  672250  It has been observed , of course , that the No...   \n",
       "2  1889  news  672250  Originally , the Post 's opposition to the fai...   \n",
       "3  1889  news  672250  for by the astute @ @ @ @ @ @ @ @ @ @ a ' perf...   \n",
       "4  1889  news  672250                                   about the fair .   \n",
       "\n",
       "                                         sentence_lc  \n",
       "0  because of the revolutionary character of the ...  \n",
       "1  it has been observed , of course , that the no...  \n",
       "2  originally , the post 's opposition to the fai...  \n",
       "3  for by the astute @ @ @ @ @ @ @ @ @ @ a ' perf...  \n",
       "4                                   about the fair .  "
      ]
     },
     "execution_count": 14,
     "metadata": {},
     "output_type": "execute_result"
    }
   ],
   "source": [
    "print(df_sentences.shape)\n",
    "df_sentences.head()"
   ]
  },
  {
   "cell_type": "markdown",
   "metadata": {},
   "source": [
    "## Apply model to get embeddings\n",
    "This will take some time to run"
   ]
  },
  {
   "cell_type": "code",
   "execution_count": 15,
   "metadata": {},
   "outputs": [],
   "source": [
    "# embedding on each sentence\n",
    "embeddings = model(list(df_sentences['sentence_lc']))"
   ]
  },
  {
   "cell_type": "code",
   "execution_count": 16,
   "metadata": {},
   "outputs": [],
   "source": [
    "def get_word_embeddings(embedding, sentence, query):\n",
    "    \"\"\"\n",
    "    Only retrieve the embeddings for the tokens that match the query\n",
    "    Does not yet handle the case where query is split up in tokenization.\n",
    "    \"\"\"\n",
    "    token_ids = model.tokenizer(sentence)\n",
    "    tokens = model.tokenizer.convert_ids_to_tokens(token_ids['input_ids'])\n",
    "    query_embeddings = np.array([embedding[i] for i,tok in enumerate(tokens) if tok==query])\n",
    "    return query_embeddings"
   ]
  },
  {
   "cell_type": "code",
   "execution_count": 17,
   "metadata": {},
   "outputs": [],
   "source": [
    "# Now do this for all sentences, and put them together in a dataframe\n",
    "df_embeddings = pd.DataFrame()\n",
    "for i, (_, row) in enumerate(df_sentences.iterrows()):\n",
    "    emb = get_word_embeddings(embeddings[i], row['sentence'], term)\n",
    "    df_embeddings = df_embeddings.append(pd.DataFrame({\n",
    "        'sentence': row['sentence'],\n",
    "        'year': row['year'],\n",
    "        'genre': row['genre'],\n",
    "        'id': row['id'],\n",
    "        'embedding': list(emb)}))"
   ]
  },
  {
   "cell_type": "code",
   "execution_count": 18,
   "metadata": {},
   "outputs": [],
   "source": [
    "df_embeddings = df_embeddings.reset_index()"
   ]
  },
  {
   "cell_type": "markdown",
   "metadata": {},
   "source": [
    "## Plot PCA"
   ]
  },
  {
   "cell_type": "code",
   "execution_count": 19,
   "metadata": {},
   "outputs": [],
   "source": [
    "from sklearn.decomposition import PCA"
   ]
  },
  {
   "cell_type": "code",
   "execution_count": 20,
   "metadata": {},
   "outputs": [],
   "source": [
    "pca = PCA(n_components=2)"
   ]
  },
  {
   "cell_type": "code",
   "execution_count": 21,
   "metadata": {},
   "outputs": [
    {
     "data": {
      "text/plain": [
       "(433, 768)"
      ]
     },
     "execution_count": 21,
     "metadata": {},
     "output_type": "execute_result"
    }
   ],
   "source": [
    "X = np.array([e for e in df_embeddings['embedding']])\n",
    "X.shape"
   ]
  },
  {
   "cell_type": "code",
   "execution_count": 22,
   "metadata": {},
   "outputs": [],
   "source": [
    "X_pca = pca.fit_transform(X)"
   ]
  },
  {
   "cell_type": "code",
   "execution_count": 23,
   "metadata": {},
   "outputs": [],
   "source": [
    "df_embeddings['pca1'] = X_pca[:,0]\n",
    "df_embeddings['pca2'] = X_pca[:,1]"
   ]
  },
  {
   "cell_type": "code",
   "execution_count": 24,
   "metadata": {},
   "outputs": [
    {
     "data": {
      "text/plain": [
       "Text(0.5, 1.0, 'PCA colored per genre')"
      ]
     },
     "execution_count": 24,
     "metadata": {},
     "output_type": "execute_result"
    },
    {
     "data": {
      "image/png": "[encoded data removed]",
      "text/plain": [
       "<Figure size 432x288 with 1 Axes>"
      ]
     },
     "metadata": {
      "needs_background": "light"
     },
     "output_type": "display_data"
    }
   ],
   "source": [
    "for key, group in df_embeddings.groupby(['genre']):\n",
    "    plt.plot(group.pca1, group.pca2, 'o', alpha=0.7, label=key)\n",
    "plt.legend()\n",
    "plt.xlabel('PCA 1')\n",
    "plt.ylabel('PCA 2')\n",
    "plt.title(\"PCA colored per genre\")"
   ]
  },
  {
   "cell_type": "markdown",
   "metadata": {},
   "source": [
    "## Masked word prediction"
   ]
  },
  {
   "cell_type": "code",
   "execution_count": 25,
   "metadata": {},
   "outputs": [
    {
     "name": "stderr",
     "output_type": "stream",
     "text": [
      "Some weights of the model checkpoint at bert-base-uncased were not used when initializing BertForMaskedLM: ['cls.seq_relationship.weight', 'cls.seq_relationship.bias']\n",
      "- This IS expected if you are initializing BertForMaskedLM from the checkpoint of a model trained on another task or with another architecture (e.g. initializing a BertForSequenceClassification model from a BertForPreTraining model).\n",
      "- This IS NOT expected if you are initializing BertForMaskedLM from the checkpoint of a model that you expect to be exactly identical (initializing a BertForSequenceClassification model from a BertForSequenceClassification model).\n"
     ]
    }
   ],
   "source": [
    "model_masked = pipeline('fill-mask',\n",
    "                           model=path2model, \n",
    "                    tokenizer=tokenizer)"
   ]
  },
  {
   "cell_type": "code",
   "execution_count": 26,
   "metadata": {},
   "outputs": [],
   "source": [
    "outputs = []\n",
    "\n",
    "for i in range(len(df_sentences)):\n",
    "    sent = df_sentences['sentence_lc'][i]\n",
    "    sent_masked = sent.replace(term, '[MASK]', 1)\n",
    "    output = model_masked(sent_masked)\n",
    "    outputs.append(output)\n",
    "    \n",
    "\n",
    "predicted_words = [[o['token_str'] for o in output] for output in outputs]\n",
    "\n",
    "predicted_words_df = pd.DataFrame(predicted_words, columns = ['word_{}'.format(i+1) for i in range(5)])\n",
    "df = pd.concat([df_sentences, predicted_words_df], axis=1)"
   ]
  },
  {
   "cell_type": "code",
   "execution_count": 27,
   "metadata": {},
   "outputs": [
    {
     "data": {
      "text/plain": [
       "fair          117\n",
       "good           89\n",
       "great          37\n",
       "beautiful      37\n",
       "right          29\n",
       "reasonable     29\n",
       "little         28\n",
       "true           28\n",
       "the            27\n",
       "young          26\n",
       "small          23\n",
       "own            21\n",
       "new            20\n",
       "a              20\n",
       "clear          19\n",
       "better         16\n",
       "free           14\n",
       "high           14\n",
       "certain        13\n",
       "it             13\n",
       "me             13\n",
       "full           13\n",
       "proper         13\n",
       "safe           12\n",
       "possible       12\n",
       "long           12\n",
       "\"              12\n",
       "lovely         11\n",
       "large          11\n",
       "easy           11\n",
       "dtype: int64"
      ]
     },
     "execution_count": 27,
     "metadata": {},
     "output_type": "execute_result"
    }
   ],
   "source": [
    "all_words = pd.concat([df['word_{}'.format(i+1)] for i in range(5)])\n",
    "all_words.value_counts().head(30)"
   ]
  },
  {
   "cell_type": "code",
   "execution_count": null,
   "metadata": {},
   "outputs": [],
   "source": []
  }
 ],
 "metadata": {
  "kernelspec": {
   "display_name": "Python 3",
   "language": "python",
   "name": "python3"
  },
  "language_info": {
   "codemirror_mode": {
    "name": "ipython",
    "version": 3
   },
   "file_extension": ".py",
   "mimetype": "text/x-python",
   "name": "python",
   "nbconvert_exporter": "python",
   "pygments_lexer": "ipython3",
   "version": "3.7.3"
  }
 },
 "nbformat": 4,
 "nbformat_minor": 2
}
