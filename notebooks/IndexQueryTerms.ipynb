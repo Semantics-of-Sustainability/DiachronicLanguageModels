{
 "cells": [
  {
   "cell_type": "markdown",
   "metadata": {},
   "source": [
    "This notebook is to create dataframes with sentences that contain a specific term, together with metadata.\n",
    "Currently only works with single word terms. You need to have an index of the Coha corpus, as created with the script `create_coha_index.py`."
   ]
  },
  {
   "cell_type": "code",
   "execution_count": 2,
   "metadata": {},
   "outputs": [],
   "source": [
    "import whoosh.index\n",
    "from whoosh.qparser import QueryParser\n",
    "import pandas as pd\n",
    "import os"
   ]
  },
  {
   "cell_type": "code",
   "execution_count": 3,
   "metadata": {},
   "outputs": [],
   "source": [
    "from nltk.tokenize import sent_tokenize, word_tokenize"
   ]
  },
  {
   "cell_type": "code",
   "execution_count": 4,
   "metadata": {},
   "outputs": [],
   "source": [
    "index_dir = \"C:\\\\Users\\\\DafnevanKuppevelt\\\\surfdrive\\\\VBox Shared\\\\SemSus\\\\coha-index\"\n",
    "ix = whoosh.index.open_dir(index_dir)"
   ]
  },
  {
   "cell_type": "code",
   "execution_count": 5,
   "metadata": {},
   "outputs": [],
   "source": [
    "searcher = ix.searcher()"
   ]
  },
  {
   "cell_type": "code",
   "execution_count": 6,
   "metadata": {},
   "outputs": [],
   "source": [
    "qp = QueryParser(\"content\", schema=ix.schema)"
   ]
  },
  {
   "cell_type": "code",
   "execution_count": 27,
   "metadata": {},
   "outputs": [],
   "source": [
    "def get_matching_sentences(key, content):\n",
    "    result = []\n",
    "    sentences = sent_tokenize(content)\n",
    "    for sent in sentences:\n",
    "        tokens = word_tokenize(sent)\n",
    "        if key in tokens:\n",
    "            result.append(sent)\n",
    "    return result"
   ]
  },
  {
   "cell_type": "code",
   "execution_count": 28,
   "metadata": {},
   "outputs": [],
   "source": [
    "def query_to_dataframe(query):\n",
    "    results = searcher.search(qp.parse(query), limit=None)\n",
    "    print('{}: {} results'.format(query, len(results)))\n",
    "    df_results = pd.DataFrame()\n",
    "    for r in results:\n",
    "        df_results = df_results.append(pd.DataFrame({\n",
    "                  'year':r['year'], \n",
    "                  'genre': r['genre'],\n",
    "                  'id': r['id'],  \n",
    "                  'sentence': get_matching_sentences(query, r['content'])}))\n",
    "    return df_results"
   ]
  },
  {
   "cell_type": "code",
   "execution_count": 29,
   "metadata": {},
   "outputs": [
    {
     "name": "stdout",
     "output_type": "stream",
     "text": [
      "fair\n",
      "fair: 165 results\n",
      "sustainable\n",
      "sustainable: 1 results\n",
      "green\n",
      "green: 160 results\n"
     ]
    }
   ],
   "source": [
    "output_path = '../../sentences_out'\n",
    "if not os.path.exists(output_path):\n",
    "    os.mkdir(output_path)\n",
    "\n",
    "queries = [\"fair\", \"sustainable\", \"green\"]\n",
    "for query in queries:\n",
    "    print(query)\n",
    "    df = query_to_dataframe(query)\n",
    "    df.to_csv(os.path.join(output_path, query+'.csv'), index=False)"
   ]
  },
  {
   "cell_type": "code",
   "execution_count": null,
   "metadata": {},
   "outputs": [],
   "source": []
  }
 ],
 "metadata": {
  "kernelspec": {
   "display_name": "Python 3",
   "language": "python",
   "name": "python3"
  },
  "language_info": {
   "codemirror_mode": {
    "name": "ipython",
    "version": 3
   },
   "file_extension": ".py",
   "mimetype": "text/x-python",
   "name": "python",
   "nbconvert_exporter": "python",
   "pygments_lexer": "ipython3",
   "version": "3.7.3"
  }
 },
 "nbformat": 4,
 "nbformat_minor": 2
}
